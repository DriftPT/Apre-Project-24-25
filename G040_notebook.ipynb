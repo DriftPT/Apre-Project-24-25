{
 "cells": [
  {
   "cell_type": "markdown",
   "metadata": {},
   "source": [
    "II. Programming [9v] \n",
    "                           \n",
    " Consider the diabetes.arff data available at the homework tab, comprising 8 biological features to \n",
    "classify 768 patients into 2 classes (normal, diabetes)."
   ]
  },
  {
   "cell_type": "code",
   "execution_count": 14,
   "metadata": {},
   "outputs": [],
   "source": [
    "import pandas as pd\n",
    "import numpy as np\n",
    "from scipy.io import arff\n",
    "from sklearn.feature_selection import f_classif"
   ]
  },
  {
   "cell_type": "markdown",
   "metadata": {},
   "source": [
    "1)  [1v] ANOVA is a statistical test that can be used to assess the discriminative power of a \n",
    "single input variable. Using f_classif from sklearn, identify the input variables with the \n",
    "worst and best discriminative power. Plot their class-conditional probability density \n",
    "functions."
   ]
  },
  {
   "cell_type": "code",
   "execution_count": null,
   "metadata": {},
   "outputs": [],
   "source": []
  },
  {
   "cell_type": "markdown",
   "metadata": {},
   "source": [
    "2)  [4v] Using a stratified 80-20 training-testing split with a fixed seed (random_state=1), assess \n",
    "in a single plot both the training and testing accuracies of a decision tree with minimum \n",
    "sample split in {2,5,10,20,30,50,100} and the remaining parameters as default.  \n",
    "[optional] Note that split thresholding of numeric variables in decision trees is non-\n",
    "deterministic in sklearn, hence you may opt to average the results using 10 runs per \n",
    "parameterization."
   ]
  },
  {
   "cell_type": "code",
   "execution_count": null,
   "metadata": {},
   "outputs": [],
   "source": []
  },
  {
   "cell_type": "markdown",
   "metadata": {},
   "source": [
    "3) [2v] Critically analyze these results, including the generalization capacity across settings. "
   ]
  },
  {
   "cell_type": "code",
   "execution_count": null,
   "metadata": {},
   "outputs": [],
   "source": []
  },
  {
   "cell_type": "markdown",
   "metadata": {},
   "source": [
    "4) [2v] To deploy the predictor, a healthcare provider opted to learn a single decision tree \n",
    "(random_state=1) using all available data and ensuring that the maximum depth would be 3 \n",
    "in order to avoid overfitting risks.\n",
    "\n",
    "    *i.* Plot the decision tree. \n",
    "    \n",
    "    *ii.* Explain what characterizes diabetes by identifying the conditional associations \n",
    "together with their posterior probabilities."
   ]
  },
  {
   "cell_type": "code",
   "execution_count": null,
   "metadata": {},
   "outputs": [],
   "source": []
  }
 ],
 "metadata": {
  "kernelspec": {
   "display_name": "Python 3",
   "language": "python",
   "name": "python3"
  },
  "language_info": {
   "codemirror_mode": {
    "name": "ipython",
    "version": 3
   },
   "file_extension": ".py",
   "mimetype": "text/x-python",
   "name": "python",
   "nbconvert_exporter": "python",
   "pygments_lexer": "ipython3",
   "version": "3.10.11"
  }
 },
 "nbformat": 4,
 "nbformat_minor": 2
}
