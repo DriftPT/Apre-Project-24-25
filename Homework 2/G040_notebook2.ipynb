{
 "cells": [
  {
   "cell_type": "markdown",
   "metadata": {},
   "source": [
    "<h2> II. Programming and critical analysis [7v]\n",
    "                           \n",
    "<h4> Consider the heart-disease.csv dataset available at the course webpage’s homework tab. Using sklearn, apply a 5-fold stratified cross-validation with shuffling (random_state=0) for the assessment of predictive models along this section.\n"
   ]
  },
  {
   "cell_type": "code",
   "execution_count": 1,
   "metadata": {},
   "outputs": [],
   "source": []
  },
  {
   "cell_type": "markdown",
   "metadata": {},
   "source": [
    "<h4>  1)  Compare the performance of a 𝑘𝑁𝑁 with 𝑘 = 5 and a naïve Bayes with Gaussian\n",
    "assumption (consider all remaining parameters as default):\n",
    "\n",
    "<h5>&nbsp;&nbsp;&nbsp;&nbsp;&nbsp;a. [1.0v] Plot two boxplots with the fold accuracies for each classifier. Is there one more stable than the other regarding performance? Why do you think that is the case? Explain.\n"
   ]
  },
  {
   "cell_type": "code",
   "execution_count": null,
   "metadata": {},
   "outputs": [],
   "source": []
  },
  {
   "cell_type": "markdown",
   "metadata": {},
   "source": [
    "<h5>&nbsp;&nbsp;&nbsp;&nbsp;&nbsp;b. [1.0v] Report the accuracy of both models, this time scaling the data with a\n",
    "Min-Max scaler before training the models. Explain the impact that this preprocessing step has on the performance of each model, providing an\n",
    "explanation for the results."
   ]
  },
  {
   "cell_type": "markdown",
   "metadata": {},
   "source": []
  },
  {
   "cell_type": "markdown",
   "metadata": {},
   "source": [
    "<h5>&nbsp;&nbsp;&nbsp;&nbsp;&nbsp;c. [1.0v] Using scipy, test the hypothesis “the 𝑘𝑁𝑁 model is statistically superior to\n",
    "naïve Bayes regarding accuracy”, asserting whether it is true."
   ]
  },
  {
   "cell_type": "markdown",
   "metadata": {},
   "source": []
  },
  {
   "cell_type": "markdown",
   "metadata": {},
   "source": [
    "<h4>  2)  Using a 80-20 train-test split, vary the number of neighbors of a 𝑘𝑁𝑁 classifier using\n",
    "𝑘 = {1, 5, 10, 20, 30}. Additionally, for each 𝑘, train one classifier using uniform weights\n",
    "and distance weights.\n",
    "\n",
    "<h5>&nbsp;&nbsp;&nbsp;&nbsp;&nbsp;a. [1.0v] Plot the train and test accuracy for each model."
   ]
  },
  {
   "cell_type": "code",
   "execution_count": null,
   "metadata": {},
   "outputs": [],
   "source": []
  },
  {
   "cell_type": "markdown",
   "metadata": {},
   "source": [
    "<h5>&nbsp;&nbsp;&nbsp;&nbsp;&nbsp;b. [1.5v] Explain the impact of increasing the neighbors on the generalization ability of\n",
    "the models."
   ]
  },
  {
   "cell_type": "markdown",
   "metadata": {},
   "source": []
  },
  {
   "cell_type": "markdown",
   "metadata": {},
   "source": [
    "<h4>  3) [1.5v] Considering the unique properties of the heart-disease.csv dataset, identify two\n",
    "possible difficulties of the naïve Bayes model used in the previous exercises when learning\n",
    "from the given dataset."
   ]
  },
  {
   "cell_type": "markdown",
   "metadata": {},
   "source": []
  }
 ],
 "metadata": {
  "kernelspec": {
   "display_name": "Python 3",
   "language": "python",
   "name": "python3"
  },
  "language_info": {
   "codemirror_mode": {
    "name": "ipython",
    "version": 3
   },
   "file_extension": ".py",
   "mimetype": "text/x-python",
   "name": "python",
   "nbconvert_exporter": "python",
   "pygments_lexer": "ipython3",
   "version": "3.10.11"
  }
 },
 "nbformat": 4,
 "nbformat_minor": 2
}
