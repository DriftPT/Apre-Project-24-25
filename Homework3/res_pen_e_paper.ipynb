{
 "cells": [
  {
   "cell_type": "markdown",
   "metadata": {},
   "source": [
    "1)"
   ]
  },
  {
   "cell_type": "code",
   "execution_count": 2,
   "metadata": {},
   "outputs": [
    {
     "name": "stdout",
     "output_type": "stream",
     "text": [
      "Resultado da multiplicação de Xtransposto e X:\n",
      "[[  5  27]\n",
      " [ 27 191]]\n",
      "\n",
      "Matriz inversa de Xtransposto * X:\n",
      "[[ 0.84513274 -0.11946903]\n",
      " [-0.11946903  0.02212389]]\n",
      "\n",
      "(Matriz inversa de Xtransposto * X) * Xtransposto:\n",
      "[[ 0.72566372  0.48672566  0.12831858 -0.2300885  -0.11061947]\n",
      " [-0.09734513 -0.05309735  0.01327434  0.07964602  0.05752212]]\n",
      "\n",
      " W:\n",
      "[[3.3159292 ]\n",
      " [0.11371681]]\n"
     ]
    }
   ],
   "source": [
    "import numpy as np\n",
    "\n",
    "# Definindo as matrizes A e B\n",
    "x = np.array([[1, 1],\n",
    "              [1, 3],\n",
    "              [1, 6],\n",
    "              [1, 9],\n",
    "              [1, 8]])\n",
    "\n",
    "\n",
    "Xtransposto = np.array([[1, 1, 1, 1, 1],\n",
    "                        [1, 3, 6, 9, 8]])\n",
    "\n",
    "Ynum = np.array([[1.25],\n",
    "              [7],\n",
    "              [2.7],\n",
    "              [3.2],\n",
    "              [5.5]])\n",
    "# Multiplicando as matrizes A e Xtransposto\n",
    "C = Xtransposto @ x\n",
    "C_inv = np.linalg.inv(C)\n",
    "\n",
    "d = C_inv @ Xtransposto\n",
    "\n",
    "res = d @ Ynum\n",
    "# ExiXtranspostoindo o resultado\n",
    "print(\"Resultado da multiplicação de Xtransposto e X:\")\n",
    "print(C)\n",
    "\n",
    "print(\"\\nMatriz inversa de Xtransposto * X:\")\n",
    "print(C_inv)\n",
    "\n",
    "print(\"\\n(Matriz inversa de Xtransposto * X) * Xtransposto:\")\n",
    "print(d)\n",
    "\n",
    "print(\"\\n W:\")\n",
    "print(res)"
   ]
  },
  {
   "cell_type": "markdown",
   "metadata": {},
   "source": [
    "2)"
   ]
  },
  {
   "cell_type": "code",
   "execution_count": 3,
   "metadata": {},
   "outputs": [
    {
     "name": "stdout",
     "output_type": "stream",
     "text": [
      "Resultado da multiplicação de Xtransposto e X:\n",
      "[[  5  27]\n",
      " [ 27 191]]\n",
      "\n",
      "(Xtransposto * X) + lambda*I:\n",
      "[[  6  27]\n",
      " [ 27 192]]\n",
      "\n",
      "Matriz inversa de (Xtransposto * X) + lambda*I:\n",
      "[[ 0.45390071 -0.06382979]\n",
      " [-0.06382979  0.0141844 ]]\n",
      "\n",
      "(Matriz inversa de (Xtransposto * X) + lambda*I) * Xtransposto:\n",
      "[[ 0.39007092  0.26241135  0.07092199 -0.12056738 -0.05673759]\n",
      " [-0.04964539 -0.0212766   0.0212766   0.06382979  0.04964539]]\n",
      "\n",
      " W:\n",
      "[[1.81808511]\n",
      " [0.32375887]]\n"
     ]
    }
   ],
   "source": [
    "# Definindo as matrizes A e B\n",
    "X = np.array([[1, 1],\n",
    "              [1, 3],\n",
    "              [1, 6],\n",
    "              [1, 9],\n",
    "              [1, 8]])\n",
    "\n",
    "Xtransposto = np.array([[1, 1, 1, 1, 1],\n",
    "                        [1, 3, 6, 9, 8]])\n",
    "\n",
    "Ynum = np.array([[1.25],\n",
    "              [7],\n",
    "              [2.7],\n",
    "              [3.2],\n",
    "              [5.5]])\n",
    "\n",
    "I = np.array([[1, 0],\n",
    "              [0, 1]])\n",
    "\n",
    "lamb = 1\n",
    "# Multiplicando as matrizes A e Xtransposto\n",
    "C = Xtransposto @ X\n",
    "\n",
    "CeI = C + (lamb * I)\n",
    "\n",
    "CeI_inv = np.linalg.inv(CeI)\n",
    "\n",
    "d = CeI_inv @ Xtransposto\n",
    "\n",
    "res = d @ Ynum\n",
    "# ExiXtranspostoindo o resultado\n",
    "print(\"Resultado da multiplicação de Xtransposto e X:\")\n",
    "print(C)\n",
    "\n",
    "print(\"\\n(Xtransposto * X) + lambda*I:\")\n",
    "print(CeI)\n",
    "\n",
    "print(\"\\nMatriz inversa de (Xtransposto * X) + lambda*I:\")\n",
    "print(CeI_inv)\n",
    "\n",
    "print(\"\\n(Matriz inversa de (Xtransposto * X) + lambda*I) * Xtransposto:\")\n",
    "print(d)\n",
    "\n",
    "print(\"\\n W:\")\n",
    "print(res)"
   ]
  },
  {
   "cell_type": "markdown",
   "metadata": {},
   "source": [
    "3)"
   ]
  },
  {
   "cell_type": "code",
   "execution_count": 4,
   "metadata": {},
   "outputs": [
    {
     "name": "stdout",
     "output_type": "stream",
     "text": [
      "Resultado1:\n",
      "[[3.772]\n",
      " [3.544]\n",
      " [3.886]]\n",
      "\n",
      " Resultado2:\n",
      "[[3.114]\n",
      " [2.466]\n",
      " [3.438]]\n",
      "\n",
      "RMSE1:\n",
      "2.46663846830729\n",
      "\n",
      "RMSE2:\n",
      "1.7536624532674467\n"
     ]
    }
   ],
   "source": [
    "# Definindo as matrizes A e B\n",
    "x = np.array([#[1, 1],\n",
    "              #[1, 3],\n",
    "              #[1, 6],\n",
    "              #[1, 9],\n",
    "              #[1, 8],\n",
    "              [1, 4],\n",
    "              [1, 2],\n",
    "              [1, 5]])\n",
    "\n",
    "Y1 = np.array([[3.316],\n",
    "               [0.114]])\n",
    "\n",
    "Y2 = np.array([[1.818],\n",
    "               [0.324]])\n",
    "\n",
    "res1 = x @ Y1\n",
    "res2 = x @ Y2\n",
    "\n",
    "\n",
    "print(\"Resultado1:\")\n",
    "print(res1)\n",
    "print(\"\\n Resultado2:\")\n",
    "print(res2)\n",
    "\n",
    "def rmse(y_real, y_pred):\n",
    "    return np.sqrt(np.mean((y_real - y_pred) ** 2))\n",
    "\n",
    "y_real = np.array([#[1.25], [7], [2.7], [3.2], [5.5],\n",
    "                     [0.7], [1.1], [2.2]]) \n",
    "y_pred_1 = res1 \n",
    "y_pred_2 = res2 \n",
    "\n",
    "# Calculando o RMSE\n",
    "resultado_rmse_1 = rmse(y_real, y_pred_1)\n",
    "resultado_rmse_2 = rmse(y_real, y_pred_2)\n",
    "\n",
    "print(\"\\nRMSE1:\")\n",
    "print(resultado_rmse_1)\n",
    "print(\"\\nRMSE2:\")\n",
    "print(resultado_rmse_2)"
   ]
  }
 ],
 "metadata": {
  "kernelspec": {
   "display_name": "Python 3",
   "language": "python",
   "name": "python3"
  },
  "language_info": {
   "codemirror_mode": {
    "name": "ipython",
    "version": 3
   },
   "file_extension": ".py",
   "mimetype": "text/x-python",
   "name": "python",
   "nbconvert_exporter": "python",
   "pygments_lexer": "ipython3",
   "version": "3.10.11"
  }
 },
 "nbformat": 4,
 "nbformat_minor": 2
}
