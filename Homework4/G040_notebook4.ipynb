{
 "cells": [
  {
   "cell_type": "markdown",
   "metadata": {},
   "source": [
    "<h2> II. Programming and critical analysis [11v]\n",
    "                           \n",
    "<h4> In the next exercise you will use the accounts.csv dataset. This dataset contains account details\n",
    "of bank clients, and the target variable yis binary (‘has the client subscribed a term deposit?’).\n",
    "Select the first 8 features and remove duplicates and null values.\n",
    "\n",
    "\n",
    "<h5>Hint: You can use get_dummies() to change the feature type (e.g. pd.get_dummies(data,\n",
    "drop_first=True)).\n",
    "\n"
   ]
  },
  {
   "cell_type": "code",
   "execution_count": 2,
   "metadata": {},
   "outputs": [],
   "source": [
    "import pandas as pd\n",
    "import matplotlib.pyplot as plt\n",
    "import seaborn as sns\n",
    "\n",
    "data = pd.read_csv('accounts.csv')\n",
    "x = data.drop('deposit', axis=1)\n",
    "y = data['deposit']"
   ]
  },
  {
   "cell_type": "markdown",
   "metadata": {},
   "source": [
    "<h4>  1) Normalize the data using MinMaxScaler:\n",
    "\n",
    "<h5>&nbsp;&nbsp;&nbsp;&nbsp;&nbsp; a. [4v] Using sklearn, apply k-means clustering (without targets) on the normalized\n",
    "data with k={2,3,4,5,6,7,8}, max_iter=500 and random_state=42. Plot the\n",
    "different sum of squared errors (SSE) using the _inertia attribute of k-means\n",
    "according to the number of clusters.\n"
   ]
  },
  {
   "cell_type": "code",
   "execution_count": null,
   "metadata": {},
   "outputs": [],
   "source": []
  },
  {
   "cell_type": "markdown",
   "metadata": {},
   "source": [
    "<h5>&nbsp;&nbsp;&nbsp;&nbsp;&nbsp; b. [1.5v] According to the previous plot, how many underlying customer segments\n",
    "(clusters) should there be? Explain based on the trade-off between the clusters and\n",
    "inertia."
   ]
  },
  {
   "cell_type": "markdown",
   "metadata": {},
   "source": []
  },
  {
   "cell_type": "markdown",
   "metadata": {},
   "source": [
    "<h5>&nbsp;&nbsp;&nbsp;&nbsp;&nbsp; c. [1.5v] Would k-modes be a better clustering approach? Explain why based on the\n",
    "dataset features.\n"
   ]
  },
  {
   "cell_type": "markdown",
   "metadata": {},
   "source": []
  },
  {
   "cell_type": "markdown",
   "metadata": {},
   "source": [
    "<h4> 2. Normalize the data using StandardScaler"
   ]
  },
  {
   "cell_type": "markdown",
   "metadata": {},
   "source": [
    "<h5>&nbsp;&nbsp;&nbsp;&nbsp;&nbsp; a. [1v] Apply PCA to the data. How much variability is explained by the top 2\n",
    "components?"
   ]
  },
  {
   "cell_type": "code",
   "execution_count": null,
   "metadata": {},
   "outputs": [],
   "source": []
  },
  {
   "cell_type": "markdown",
   "metadata": {},
   "source": [
    "<h5>&nbsp;&nbsp;&nbsp;&nbsp;&nbsp;b. [1v] Apply k-meansclustering with k=3 and random_state=42 (all other\n",
    "arguments as default) and use the original 8 features. Next, provide a scatterplot\n",
    "according to the first 2 principal components. Can we clearly separate the clusters?\n",
    "Justify."
   ]
  },
  {
   "cell_type": "markdown",
   "metadata": {},
   "source": []
  },
  {
   "cell_type": "markdown",
   "metadata": {},
   "source": [
    "<h5>&nbsp;&nbsp;&nbsp;&nbsp;&nbsp;c. [2v] Plot the cluster conditional features of the frequencies of “job” and ”education”\n",
    "according to the clusters obtained in the previous question (2b.). Use sns.displot\n",
    "(see Data Exploration notebook),with multiple=\"dodge\",stat='density',\n",
    "shrink=0.8 and common_norm=False. Describe the main differences between the\n",
    "clusters in no more than half a page."
   ]
  },
  {
   "cell_type": "code",
   "execution_count": null,
   "metadata": {},
   "outputs": [],
   "source": []
  },
  {
   "cell_type": "markdown",
   "metadata": {},
   "source": []
  }
 ],
 "metadata": {
  "kernelspec": {
   "display_name": "Python 3",
   "language": "python",
   "name": "python3"
  },
  "language_info": {
   "codemirror_mode": {
    "name": "ipython",
    "version": 3
   },
   "file_extension": ".py",
   "mimetype": "text/x-python",
   "name": "python",
   "nbconvert_exporter": "python",
   "pygments_lexer": "ipython3",
   "version": "3.10.11"
  }
 },
 "nbformat": 4,
 "nbformat_minor": 2
}
