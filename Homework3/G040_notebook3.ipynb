{
 "cells": [
  {
   "cell_type": "markdown",
   "metadata": {},
   "source": [
    "<h2> II. Programming and critical analysis [8v]\n",
    "                           \n",
    "<h4> Consider the parkinsons.csv dataset (available at the course’s webpage), where the goal is\n",
    "to predict a patient’s score on the Unified Parkinson’s Disease Rating Scale based on various\n",
    "biomedical measurements.\n",
    "\n",
    "To answer question 5), average the performance of the models over 10 separate runs. In each\n",
    "run, use a different 80-20 train-test split by setting a random_state=i, with i=1..10.\n",
    "\n"
   ]
  },
  {
   "cell_type": "code",
   "execution_count": 3,
   "metadata": {},
   "outputs": [],
   "source": [
    "import pandas as pd  # type: ignore\n",
    "import numpy as np # type: ignore\n",
    "import matplotlib.pyplot as plt # type: ignore\n",
    "import seaborn as sns # type: ignore\n",
    "\n",
    "\n",
    "data = pd.read_csv('parkinsons.csv')\n",
    "x = data.drop('target', axis=1)\n",
    "y = data['target']"
   ]
  },
  {
   "cell_type": "markdown",
   "metadata": {},
   "source": [
    "<h4>  5)  [2v] Train a Linear Regression model, an MLP Regressor with 2 hidden layers of 10\n",
    "neurons each and no activation functions, and another MLP Regressor with 2 hidden\n",
    "layers of 10 neurons each using ReLU activation functions. (Use random_state=0 on the\n",
    "MLPs, regardless of the run). Plot a boxplot of the test MAE of each model.\n"
   ]
  },
  {
   "cell_type": "code",
   "execution_count": null,
   "metadata": {},
   "outputs": [],
   "source": [
    "\n"
   ]
  },
  {
   "cell_type": "markdown",
   "metadata": {},
   "source": [
    "<h4> 6)  [3v] Compare a Linear Regression with a MLP with no activations, and explain the impact\n",
    "and the importance of using activation functions in a MLP. Support your reasoning with the\n",
    "results from the boxplots.\n"
   ]
  },
  {
   "cell_type": "code",
   "execution_count": null,
   "metadata": {},
   "outputs": [],
   "source": []
  },
  {
   "cell_type": "markdown",
   "metadata": {},
   "source": []
  },
  {
   "cell_type": "markdown",
   "metadata": {},
   "source": [
    "<h4>  7)  [4v] Using a 80-20 train-test split with random_state=0, use a Grid Search to tune the\n",
    "hyperparameters of an MLP regressor with two hidden layers (size 10 each). The\n",
    "parameters to search over are: (i) L2 penalty, with the values {0.0001, 0.001, 0.01}; (ii)\n",
    "learning rate, with the values {0.001, 0.01, 0.1}; and (iii) batch size, with the values\n",
    "{32, 64, 128}. Plot the test MAE for each combination of hyperparameters, report the\n",
    "best combination, and discuss the trade-offs between the combinations.\n"
   ]
  },
  {
   "cell_type": "code",
   "execution_count": null,
   "metadata": {},
   "outputs": [],
   "source": []
  },
  {
   "cell_type": "markdown",
   "metadata": {},
   "source": []
  }
 ],
 "metadata": {
  "kernelspec": {
   "display_name": "Python 3",
   "language": "python",
   "name": "python3"
  },
  "language_info": {
   "codemirror_mode": {
    "name": "ipython",
    "version": 3
   },
   "file_extension": ".py",
   "mimetype": "text/x-python",
   "name": "python",
   "nbconvert_exporter": "python",
   "pygments_lexer": "ipython3",
   "version": "3.10.11"
  }
 },
 "nbformat": 4,
 "nbformat_minor": 2
}
